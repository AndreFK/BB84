{
 "cells": [
  {
   "cell_type": "markdown",
   "metadata": {},
   "source": [
    "#### Alice sets up the qubit she wants to send"
   ]
  },
  {
   "cell_type": "code",
   "execution_count": 3,
   "metadata": {},
   "outputs": [
    {
     "name": "stdout",
     "output_type": "stream",
     "text": [
      "Bit to Send = 1\n"
     ]
    }
   ],
   "source": [
    "from qiskit import QuantumCircuit, transpile, Aer\n",
    "\n",
    "simulator = Aer.get_backend(\"aer_simulator\")\n",
    "\n",
    "\n",
    "#Compute a random bit to send\n",
    "randomBitCircuit = QuantumCircuit(1,1)\n",
    "randomBitCircuit.x(0)\n",
    "randomBitCircuit.barrier()\n",
    "randomBitCircuit.h(0)\n",
    "randomBitCircuit.barrier()\n",
    "randomBitCircuit.measure(0,0)\n",
    "\n",
    "randomBitCompiledCircuit = transpile(randomBitCircuit, simulator)\n",
    "job = simulator.run(randomBitCompiledCircuit, shots = 1)\n",
    "result = job.result()\n",
    "counts = result.get_counts(randomBitCompiledCircuit)\n",
    "if(\"1\" in counts.keys()):\n",
    "    bitToSend = 1\n",
    "else:\n",
    "    bitToSend = 0\n",
    "    \n",
    "print(\"Bit to Send = \" + str(bitToSend))"
   ]
  },
  {
   "cell_type": "markdown",
   "metadata": {},
   "source": [
    "#### Then she sets the basis on which she wants to measure the qubit"
   ]
  },
  {
   "cell_type": "code",
   "execution_count": 4,
   "metadata": {},
   "outputs": [
    {
     "name": "stdout",
     "output_type": "stream",
     "text": [
      "Send Basis = 1\n"
     ]
    }
   ],
   "source": [
    "#Compute a random basis to use for sending\n",
    "randomSendBasisCircuit = QuantumCircuit(1,1)\n",
    "randomSendBasisCircuit.x(0)\n",
    "randomSendBasisCircuit.barrier()\n",
    "randomSendBasisCircuit.h(0)\n",
    "randomSendBasisCircuit.barrier()\n",
    "randomSendBasisCircuit.measure(0,0)\n",
    "\n",
    "randomSendBasisCompiledCircuit = transpile(randomSendBasisCircuit, simulator)\n",
    "job = simulator.run(randomSendBasisCompiledCircuit, shots = 1)\n",
    "result = job.result()\n",
    "counts = result.get_counts(randomSendBasisCompiledCircuit)\n",
    "if(\"1\" in counts.keys()):\n",
    "    sendBasis = 1\n",
    "else:\n",
    "    sendBasis = 0\n",
    "    \n",
    "print(\"Send Basis = \" + str(sendBasis))\n"
   ]
  },
  {
   "cell_type": "markdown",
   "metadata": {},
   "source": [
    "#### Now Bob decides a random basis on which to measure the qubit sent by Alice"
   ]
  },
  {
   "cell_type": "code",
   "execution_count": 5,
   "metadata": {},
   "outputs": [
    {
     "name": "stdout",
     "output_type": "stream",
     "text": [
      "Receive Basis = 0\n"
     ]
    }
   ],
   "source": [
    "#Compute a random basis to use for receiving\n",
    "randomRecvBasisCircuit = QuantumCircuit(1,1)\n",
    "randomRecvBasisCircuit.x(0)\n",
    "randomRecvBasisCircuit.barrier()\n",
    "randomRecvBasisCircuit.h(0)\n",
    "randomRecvBasisCircuit.barrier()\n",
    "randomRecvBasisCircuit.measure(0,0)\n",
    "\n",
    "randomRecvBasisCompiledCircuit = transpile(randomRecvBasisCircuit, simulator)\n",
    "job = simulator.run(randomRecvBasisCompiledCircuit, shots = 1)\n",
    "result = job.result()\n",
    "counts = result.get_counts(randomRecvBasisCompiledCircuit)\n",
    "if(\"1\" in counts.keys()):\n",
    "    recvBasis = 1\n",
    "else:\n",
    "    recvBasis = 0\n",
    "    \n",
    "print(\"Receive Basis = \" + str(recvBasis))"
   ]
  },
  {
   "cell_type": "markdown",
   "metadata": {},
   "source": [
    "#### Finally, we compare and check if the basis match, if they do then we keep the bit value, else we discard it!"
   ]
  },
  {
   "cell_type": "code",
   "execution_count": 6,
   "metadata": {},
   "outputs": [
    {
     "name": "stdout",
     "output_type": "stream",
     "text": [
      "Bit was lost because basis didn't match\n"
     ]
    }
   ],
   "source": [
    "#Quantum Send\n",
    "commCircuit = QuantumCircuit(1,1)\n",
    "if(bitToSend==1):\n",
    "    commCircuit.x(0) \n",
    "if(sendBasis==1):\n",
    "    commCircuit.h(0) # Change the basis\n",
    "    \n",
    "#Quantum Receive\n",
    "if(recvBasis==1):\n",
    "    commCircuit.h(0) # HH = I. So this will reverse the earlier basis change\n",
    "commCircuit.measure(0,0)\n",
    "\n",
    "\n",
    "commCompiledCircuit = transpile(commCircuit, simulator)\n",
    "job = simulator.run(commCompiledCircuit, shots = 1)\n",
    "result = job.result()\n",
    "counts = result.get_counts(commCompiledCircuit)\n",
    "\n",
    "if(\"1\" in counts.keys()):\n",
    "    recvBit = 1\n",
    "else:\n",
    "    recvBit = 0\n",
    "    \n",
    "#If the basis are the same, the received bit should be the same as the sent bit\n",
    "if(sendBasis==recvBasis):\n",
    "    print(\"Sent Bit = \"+str(bitToSend)+\" Received Bit = \"+str(recvBit))\n",
    "else:\n",
    "    print(\"Bit was lost because basis didn't match\")"
   ]
  }
 ],
 "metadata": {
  "kernelspec": {
   "display_name": "Python 3",
   "language": "python",
   "name": "python3"
  },
  "language_info": {
   "codemirror_mode": {
    "name": "ipython",
    "version": 3
   },
   "file_extension": ".py",
   "mimetype": "text/x-python",
   "name": "python",
   "nbconvert_exporter": "python",
   "pygments_lexer": "ipython3",
   "version": "3.11.1"
  }
 },
 "nbformat": 4,
 "nbformat_minor": 2
}
